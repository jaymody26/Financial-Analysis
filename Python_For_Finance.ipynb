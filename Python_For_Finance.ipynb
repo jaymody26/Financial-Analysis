{
  "nbformat": 4,
  "nbformat_minor": 0,
  "metadata": {
    "colab": {
      "name": "Python For Finance.ipynb",
      "provenance": [],
      "collapsed_sections": []
    },
    "kernelspec": {
      "name": "python3",
      "display_name": "Python 3"
    },
    "language_info": {
      "name": "python"
    }
  },
  "cells": [
    {
      "cell_type": "code",
      "metadata": {
        "id": "Qc5nht7s4iE_"
      },
      "source": [
        "import pandas as pd\n",
        "import numpy as np\n",
        "import matplotlib.pyplot as plt\n",
        "import pandas_datareader.data as web\n",
        "import datetime as dt"
      ],
      "execution_count": 1,
      "outputs": []
    },
    {
      "cell_type": "code",
      "metadata": {
        "id": "Bxb_sN-i6TLm"
      },
      "source": [
        "# select the start range, and import the stock data\n",
        "\n",
        "portfolio= ['AAPL','MSFT','IBM','TWTR']\n",
        "\n",
        "start= dt.datetime(2020,1,1)\n",
        "\n",
        "df = web.DataReader(portfolio,'yahoo',start)\n",
        "df= pd.DataFrame(df)\n",
        "df = df['Adj Close']"
      ],
      "execution_count": 2,
      "outputs": []
    },
    {
      "cell_type": "markdown",
      "metadata": {
        "id": "nlYcS5wB70Uq"
      },
      "source": [
        "# Sharpe Ratio"
      ]
    },
    {
      "cell_type": "code",
      "metadata": {
        "id": "CVnvi9Y5HwhP"
      },
      "source": [
        "# We find the log returns of our portfolio\n",
        "\n",
        "returns= np.log(df/df.shift())"
      ],
      "execution_count": 3,
      "outputs": []
    },
    {
      "cell_type": "code",
      "metadata": {
        "colab": {
          "base_uri": "https://localhost:8080/"
        },
        "id": "lhgKr23dGjiA",
        "outputId": "2aab0163-c311-40f2-b95e-53ceffe17cfb"
      },
      "source": [
        "# randomly assign weights to each stock in our portfolio\n",
        "\n",
        "weight = np.random.random(4)\n",
        "weight /= weight.sum()\n",
        "weight"
      ],
      "execution_count": 4,
      "outputs": [
        {
          "output_type": "execute_result",
          "data": {
            "text/plain": [
              "array([0.52627855, 0.36067836, 0.08101089, 0.0320322 ])"
            ]
          },
          "metadata": {
            "tags": []
          },
          "execution_count": 4
        }
      ]
    },
    {
      "cell_type": "code",
      "metadata": {
        "id": "HIeybko5IeTV"
      },
      "source": [
        "# caluclate the expected returns and std dev on annual basis\n",
        "\n",
        "exp_returns = np.sum(returns.mean()*weight)*252\n",
        "\n",
        "#exp_std = np.sum(returns.std()*252)\n",
        "exp_std = np.sqrt(np.dot(weight.T,np.dot(returns.cov()*252,weight)))"
      ],
      "execution_count": 5,
      "outputs": []
    },
    {
      "cell_type": "code",
      "metadata": {
        "colab": {
          "base_uri": "https://localhost:8080/"
        },
        "id": "lM36TXdiI9YQ",
        "outputId": "86a009a9-3bee-44c4-b524-b12c52a2f0e1"
      },
      "source": [
        "# calculate sharpe ratio\n",
        "\n",
        "sharpe_ratio= exp_returns / exp_std\n",
        "sharpe_ratio "
      ],
      "execution_count": 6,
      "outputs": [
        {
          "output_type": "execute_result",
          "data": {
            "text/plain": [
              "0.9215834648210143"
            ]
          },
          "metadata": {
            "tags": []
          },
          "execution_count": 6
        }
      ]
    },
    {
      "cell_type": "markdown",
      "metadata": {
        "id": "S3yvDMiMCMXy"
      },
      "source": [
        "##Monte Carlo Simulation"
      ]
    },
    {
      "cell_type": "code",
      "metadata": {
        "id": "qvuK-wP2KE6S"
      },
      "source": [
        "# Monte Carlo Simulation n= 500\n",
        "\n",
        "n=5000\n",
        "\n",
        "weights = np.zeros((n,4))\n",
        "\n",
        "exp_rtns=np.zeros(n)\n",
        "exp_vols=np.zeros(n)\n",
        "sharpe= np.zeros(n)\n",
        "\n",
        "for i in range(n):\n",
        "  weight = np.random.random(4)\n",
        "  weight /= weight.sum()\n",
        "  weights[i] = weight\n",
        "\n",
        "  exp_rtns[i] = np.sum(returns.mean()*weight)*252\n",
        "  exp_vols[i] = np.sqrt(np.dot(weight.T,np.dot(returns.cov()*252,weight)))\n",
        "  sharpe[i] = exp_rtns[i] / exp_vols[i]\n"
      ],
      "execution_count": 7,
      "outputs": []
    },
    {
      "cell_type": "code",
      "metadata": {
        "colab": {
          "base_uri": "https://localhost:8080/"
        },
        "id": "KO_KcvodLSaB",
        "outputId": "ca885cc4-43d4-4274-ecad-7f8e1e2e94f7"
      },
      "source": [
        "# maximum value of sharpe ratio among all simulations\n",
        "\n",
        "sharpe.max()"
      ],
      "execution_count": 8,
      "outputs": [
        {
          "output_type": "execute_result",
          "data": {
            "text/plain": [
              "0.9511329937080357"
            ]
          },
          "metadata": {
            "tags": []
          },
          "execution_count": 8
        }
      ]
    },
    {
      "cell_type": "code",
      "metadata": {
        "colab": {
          "base_uri": "https://localhost:8080/"
        },
        "id": "waYFkPiPMOaL",
        "outputId": "52ee647c-ca85-4020-ca28-cdcfe658f8e1"
      },
      "source": [
        "# location of the highest sharpe ratio\n",
        "\n",
        "sharpe.argmax()"
      ],
      "execution_count": 9,
      "outputs": [
        {
          "output_type": "execute_result",
          "data": {
            "text/plain": [
              "1250"
            ]
          },
          "metadata": {
            "tags": []
          },
          "execution_count": 9
        }
      ]
    },
    {
      "cell_type": "code",
      "metadata": {
        "id": "gPCTZo30MTta",
        "colab": {
          "base_uri": "https://localhost:8080/"
        },
        "outputId": "1f8f2558-6ae0-4571-b140-faa551f97104"
      },
      "source": [
        "# weights of the portfolio having highest sharpe ratio\n",
        "\n",
        "weights[sharpe.argmax()]"
      ],
      "execution_count": 10,
      "outputs": [
        {
          "output_type": "execute_result",
          "data": {
            "text/plain": [
              "array([0.60854201, 0.23753416, 0.00672373, 0.1472001 ])"
            ]
          },
          "metadata": {
            "tags": []
          },
          "execution_count": 10
        }
      ]
    },
    {
      "cell_type": "code",
      "metadata": {
        "id": "M3FJPcsGK1si",
        "colab": {
          "base_uri": "https://localhost:8080/",
          "height": 405
        },
        "outputId": "9ed6f534-772b-405f-8fac-dedf9cfacf29"
      },
      "source": [
        "# plotting the frontier and the portfolio with highest sharpe ratio\n",
        "\n",
        "fig, ax = plt.subplots(figsize=(10,6))\n",
        "ax.scatter(exp_vols,exp_rtns, c = sharpe)\n",
        "ax.scatter(exp_vols[sharpe.argmax()],exp_rtns[sharpe.argmax()], color='r')\n",
        "ax.set_xlabel('Expected Volatility')\n",
        "ax.set_ylabel('Expected Return')"
      ],
      "execution_count": 11,
      "outputs": [
        {
          "output_type": "execute_result",
          "data": {
            "text/plain": [
              "Text(0, 0.5, 'Expected Return')"
            ]
          },
          "metadata": {
            "tags": []
          },
          "execution_count": 11
        },
        {
          "output_type": "display_data",
          "data": {
            "image/png": "[encoded data removed]",
            "text/plain": [
              "<Figure size 720x432 with 1 Axes>"
            ]
          },
          "metadata": {
            "tags": [],
            "needs_background": "light"
          }
        }
      ]
    },
    {
      "cell_type": "markdown",
      "metadata": {
        "id": "wEA6cs2SCVxK"
      },
      "source": [
        "## Correlation"
      ]
    },
    {
      "cell_type": "code",
      "metadata": {
        "colab": {
          "base_uri": "https://localhost:8080/",
          "height": 204
        },
        "id": "1OFZyneJ_NMX",
        "outputId": "96867321-8f67-4253-8d25-ba741ab0f2ae"
      },
      "source": [
        "# correlation amongst our portfolio\n",
        "\n",
        "df.corr()"
      ],
      "execution_count": 12,
      "outputs": [
        {
          "output_type": "execute_result",
          "data": {
            "text/html": [
              "<div>\n",
              "<style scoped>\n",
              "    .dataframe tbody tr th:only-of-type {\n",
              "        vertical-align: middle;\n",
              "    }\n",
              "\n",
              "    .dataframe tbody tr th {\n",
              "        vertical-align: top;\n",
              "    }\n",
              "\n",
              "    .dataframe thead th {\n",
              "        text-align: right;\n",
              "    }\n",
              "</style>\n",
              "<table border=\"1\" class=\"dataframe\">\n",
              "  <thead>\n",
              "    <tr style=\"text-align: right;\">\n",
              "      <th>Symbols</th>\n",
              "      <th>AAPL</th>\n",
              "      <th>MSFT</th>\n",
              "      <th>IBM</th>\n",
              "      <th>TWTR</th>\n",
              "    </tr>\n",
              "    <tr>\n",
              "      <th>Symbols</th>\n",
              "      <th></th>\n",
              "      <th></th>\n",
              "      <th></th>\n",
              "      <th></th>\n",
              "    </tr>\n",
              "  </thead>\n",
              "  <tbody>\n",
              "    <tr>\n",
              "      <th>AAPL</th>\n",
              "      <td>1.000000</td>\n",
              "      <td>0.932599</td>\n",
              "      <td>0.293835</td>\n",
              "      <td>0.823040</td>\n",
              "    </tr>\n",
              "    <tr>\n",
              "      <th>MSFT</th>\n",
              "      <td>0.932599</td>\n",
              "      <td>1.000000</td>\n",
              "      <td>0.379854</td>\n",
              "      <td>0.865332</td>\n",
              "    </tr>\n",
              "    <tr>\n",
              "      <th>IBM</th>\n",
              "      <td>0.293835</td>\n",
              "      <td>0.379854</td>\n",
              "      <td>1.000000</td>\n",
              "      <td>0.425768</td>\n",
              "    </tr>\n",
              "    <tr>\n",
              "      <th>TWTR</th>\n",
              "      <td>0.823040</td>\n",
              "      <td>0.865332</td>\n",
              "      <td>0.425768</td>\n",
              "      <td>1.000000</td>\n",
              "    </tr>\n",
              "  </tbody>\n",
              "</table>\n",
              "</div>"
            ],
            "text/plain": [
              "Symbols      AAPL      MSFT       IBM      TWTR\n",
              "Symbols                                        \n",
              "AAPL     1.000000  0.932599  0.293835  0.823040\n",
              "MSFT     0.932599  1.000000  0.379854  0.865332\n",
              "IBM      0.293835  0.379854  1.000000  0.425768\n",
              "TWTR     0.823040  0.865332  0.425768  1.000000"
            ]
          },
          "metadata": {
            "tags": []
          },
          "execution_count": 12
        }
      ]
    },
    {
      "cell_type": "code",
      "metadata": {
        "colab": {
          "base_uri": "https://localhost:8080/",
          "height": 450
        },
        "id": "S53TcbYhdj2Y",
        "outputId": "9d0e71ed-78d4-46d3-85fe-3dbeae368c77"
      },
      "source": [
        "# adding S&P 500 and scaling the data\n",
        "\n",
        "sp500 = web.DataReader('^GSPC','yahoo',start)\n",
        "df['SP500']= sp500['Adj Close']\n",
        "df= np.log(df/df.shift())\n",
        "df\n",
        "returns['SP500'] =df['SP500']\n",
        "returns"
      ],
      "execution_count": 13,
      "outputs": [
        {
          "output_type": "execute_result",
          "data": {
            "text/html": [
              "<div>\n",
              "<style scoped>\n",
              "    .dataframe tbody tr th:only-of-type {\n",
              "        vertical-align: middle;\n",
              "    }\n",
              "\n",
              "    .dataframe tbody tr th {\n",
              "        vertical-align: top;\n",
              "    }\n",
              "\n",
              "    .dataframe thead th {\n",
              "        text-align: right;\n",
              "    }\n",
              "</style>\n",
              "<table border=\"1\" class=\"dataframe\">\n",
              "  <thead>\n",
              "    <tr style=\"text-align: right;\">\n",
              "      <th>Symbols</th>\n",
              "      <th>AAPL</th>\n",
              "      <th>MSFT</th>\n",
              "      <th>IBM</th>\n",
              "      <th>TWTR</th>\n",
              "      <th>SP500</th>\n",
              "    </tr>\n",
              "    <tr>\n",
              "      <th>Date</th>\n",
              "      <th></th>\n",
              "      <th></th>\n",
              "      <th></th>\n",
              "      <th></th>\n",
              "      <th></th>\n",
              "    </tr>\n",
              "  </thead>\n",
              "  <tbody>\n",
              "    <tr>\n",
              "      <th>2020-01-02</th>\n",
              "      <td>NaN</td>\n",
              "      <td>NaN</td>\n",
              "      <td>NaN</td>\n",
              "      <td>NaN</td>\n",
              "      <td>NaN</td>\n",
              "    </tr>\n",
              "    <tr>\n",
              "      <th>2020-01-03</th>\n",
              "      <td>-0.009770</td>\n",
              "      <td>-0.012530</td>\n",
              "      <td>-0.008007</td>\n",
              "      <td>-0.024445</td>\n",
              "      <td>-0.007085</td>\n",
              "    </tr>\n",
              "    <tr>\n",
              "      <th>2020-01-06</th>\n",
              "      <td>0.007937</td>\n",
              "      <td>0.002582</td>\n",
              "      <td>-0.001788</td>\n",
              "      <td>0.003800</td>\n",
              "      <td>0.003527</td>\n",
              "    </tr>\n",
              "    <tr>\n",
              "      <th>2020-01-07</th>\n",
              "      <td>-0.004714</td>\n",
              "      <td>-0.009160</td>\n",
              "      <td>0.000671</td>\n",
              "      <td>0.028048</td>\n",
              "      <td>-0.002807</td>\n",
              "    </tr>\n",
              "    <tr>\n",
              "      <th>2020-01-08</th>\n",
              "      <td>0.015958</td>\n",
              "      <td>0.015803</td>\n",
              "      <td>0.008312</td>\n",
              "      <td>0.015551</td>\n",
              "      <td>0.004890</td>\n",
              "    </tr>\n",
              "    <tr>\n",
              "      <th>...</th>\n",
              "      <td>...</td>\n",
              "      <td>...</td>\n",
              "      <td>...</td>\n",
              "      <td>...</td>\n",
              "      <td>...</td>\n",
              "    </tr>\n",
              "    <tr>\n",
              "      <th>2021-04-28</th>\n",
              "      <td>-0.006045</td>\n",
              "      <td>-0.028693</td>\n",
              "      <td>0.006947</td>\n",
              "      <td>-0.004707</td>\n",
              "      <td>-0.000846</td>\n",
              "    </tr>\n",
              "    <tr>\n",
              "      <th>2021-04-29</th>\n",
              "      <td>-0.000749</td>\n",
              "      <td>-0.008086</td>\n",
              "      <td>0.008634</td>\n",
              "      <td>-0.009328</td>\n",
              "      <td>0.006740</td>\n",
              "    </tr>\n",
              "    <tr>\n",
              "      <th>2021-04-30</th>\n",
              "      <td>-0.015249</td>\n",
              "      <td>-0.001308</td>\n",
              "      <td>-0.016497</td>\n",
              "      <td>-0.164446</td>\n",
              "      <td>-0.007221</td>\n",
              "    </tr>\n",
              "    <tr>\n",
              "      <th>2021-05-03</th>\n",
              "      <td>0.008182</td>\n",
              "      <td>-0.001270</td>\n",
              "      <td>0.020026</td>\n",
              "      <td>-0.011658</td>\n",
              "      <td>0.002744</td>\n",
              "    </tr>\n",
              "    <tr>\n",
              "      <th>2021-05-04</th>\n",
              "      <td>-0.036027</td>\n",
              "      <td>-0.016292</td>\n",
              "      <td>0.006885</td>\n",
              "      <td>-0.003303</td>\n",
              "      <td>-0.006701</td>\n",
              "    </tr>\n",
              "  </tbody>\n",
              "</table>\n",
              "<p>337 rows × 5 columns</p>\n",
              "</div>"
            ],
            "text/plain": [
              "Symbols         AAPL      MSFT       IBM      TWTR     SP500\n",
              "Date                                                        \n",
              "2020-01-02       NaN       NaN       NaN       NaN       NaN\n",
              "2020-01-03 -0.009770 -0.012530 -0.008007 -0.024445 -0.007085\n",
              "2020-01-06  0.007937  0.002582 -0.001788  0.003800  0.003527\n",
              "2020-01-07 -0.004714 -0.009160  0.000671  0.028048 -0.002807\n",
              "2020-01-08  0.015958  0.015803  0.008312  0.015551  0.004890\n",
              "...              ...       ...       ...       ...       ...\n",
              "2021-04-28 -0.006045 -0.028693  0.006947 -0.004707 -0.000846\n",
              "2021-04-29 -0.000749 -0.008086  0.008634 -0.009328  0.006740\n",
              "2021-04-30 -0.015249 -0.001308 -0.016497 -0.164446 -0.007221\n",
              "2021-05-03  0.008182 -0.001270  0.020026 -0.011658  0.002744\n",
              "2021-05-04 -0.036027 -0.016292  0.006885 -0.003303 -0.006701\n",
              "\n",
              "[337 rows x 5 columns]"
            ]
          },
          "metadata": {
            "tags": []
          },
          "execution_count": 13
        }
      ]
    },
    {
      "cell_type": "code",
      "metadata": {
        "colab": {
          "base_uri": "https://localhost:8080/",
          "height": 235
        },
        "id": "sd4r7zP8ecND",
        "outputId": "10b74139-feb9-404f-d575-65542bfcfc23"
      },
      "source": [
        "# correlation with S&P 500\n",
        "\n",
        "df.corr()"
      ],
      "execution_count": 14,
      "outputs": [
        {
          "output_type": "execute_result",
          "data": {
            "text/html": [
              "<div>\n",
              "<style scoped>\n",
              "    .dataframe tbody tr th:only-of-type {\n",
              "        vertical-align: middle;\n",
              "    }\n",
              "\n",
              "    .dataframe tbody tr th {\n",
              "        vertical-align: top;\n",
              "    }\n",
              "\n",
              "    .dataframe thead th {\n",
              "        text-align: right;\n",
              "    }\n",
              "</style>\n",
              "<table border=\"1\" class=\"dataframe\">\n",
              "  <thead>\n",
              "    <tr style=\"text-align: right;\">\n",
              "      <th>Symbols</th>\n",
              "      <th>AAPL</th>\n",
              "      <th>MSFT</th>\n",
              "      <th>IBM</th>\n",
              "      <th>TWTR</th>\n",
              "      <th>SP500</th>\n",
              "    </tr>\n",
              "    <tr>\n",
              "      <th>Symbols</th>\n",
              "      <th></th>\n",
              "      <th></th>\n",
              "      <th></th>\n",
              "      <th></th>\n",
              "      <th></th>\n",
              "    </tr>\n",
              "  </thead>\n",
              "  <tbody>\n",
              "    <tr>\n",
              "      <th>AAPL</th>\n",
              "      <td>1.000000</td>\n",
              "      <td>0.827251</td>\n",
              "      <td>0.500062</td>\n",
              "      <td>0.526543</td>\n",
              "      <td>0.811582</td>\n",
              "    </tr>\n",
              "    <tr>\n",
              "      <th>MSFT</th>\n",
              "      <td>0.827251</td>\n",
              "      <td>1.000000</td>\n",
              "      <td>0.567227</td>\n",
              "      <td>0.546106</td>\n",
              "      <td>0.865147</td>\n",
              "    </tr>\n",
              "    <tr>\n",
              "      <th>IBM</th>\n",
              "      <td>0.500062</td>\n",
              "      <td>0.567227</td>\n",
              "      <td>1.000000</td>\n",
              "      <td>0.363549</td>\n",
              "      <td>0.773973</td>\n",
              "    </tr>\n",
              "    <tr>\n",
              "      <th>TWTR</th>\n",
              "      <td>0.526543</td>\n",
              "      <td>0.546106</td>\n",
              "      <td>0.363549</td>\n",
              "      <td>1.000000</td>\n",
              "      <td>0.592002</td>\n",
              "    </tr>\n",
              "    <tr>\n",
              "      <th>SP500</th>\n",
              "      <td>0.811582</td>\n",
              "      <td>0.865147</td>\n",
              "      <td>0.773973</td>\n",
              "      <td>0.592002</td>\n",
              "      <td>1.000000</td>\n",
              "    </tr>\n",
              "  </tbody>\n",
              "</table>\n",
              "</div>"
            ],
            "text/plain": [
              "Symbols      AAPL      MSFT       IBM      TWTR     SP500\n",
              "Symbols                                                  \n",
              "AAPL     1.000000  0.827251  0.500062  0.526543  0.811582\n",
              "MSFT     0.827251  1.000000  0.567227  0.546106  0.865147\n",
              "IBM      0.500062  0.567227  1.000000  0.363549  0.773973\n",
              "TWTR     0.526543  0.546106  0.363549  1.000000  0.592002\n",
              "SP500    0.811582  0.865147  0.773973  0.592002  1.000000"
            ]
          },
          "metadata": {
            "tags": []
          },
          "execution_count": 14
        }
      ]
    },
    {
      "cell_type": "code",
      "metadata": {
        "id": "hyNFS0qlgLxz"
      },
      "source": [
        "# adding a new ticker and calculating correlation with S&P 500\n",
        "\n",
        "def test_correlation(ticker):\n",
        "   df = web.DataReader(ticker,'yahoo', start)\n",
        "   lr = returns.copy()\n",
        "   lr[ticker] = np.log(df['Adj Close']/df['Adj Close'].shift())\n",
        "   return lr.corr()"
      ],
      "execution_count": 15,
      "outputs": []
    },
    {
      "cell_type": "code",
      "metadata": {
        "colab": {
          "base_uri": "https://localhost:8080/",
          "height": 266
        },
        "id": "ZvLHPKSbhRB9",
        "outputId": "0c116e8e-0404-4597-8077-112da280fba9"
      },
      "source": [
        "test_correlation('LQD')"
      ],
      "execution_count": 16,
      "outputs": [
        {
          "output_type": "execute_result",
          "data": {
            "text/html": [
              "<div>\n",
              "<style scoped>\n",
              "    .dataframe tbody tr th:only-of-type {\n",
              "        vertical-align: middle;\n",
              "    }\n",
              "\n",
              "    .dataframe tbody tr th {\n",
              "        vertical-align: top;\n",
              "    }\n",
              "\n",
              "    .dataframe thead th {\n",
              "        text-align: right;\n",
              "    }\n",
              "</style>\n",
              "<table border=\"1\" class=\"dataframe\">\n",
              "  <thead>\n",
              "    <tr style=\"text-align: right;\">\n",
              "      <th>Symbols</th>\n",
              "      <th>AAPL</th>\n",
              "      <th>MSFT</th>\n",
              "      <th>IBM</th>\n",
              "      <th>TWTR</th>\n",
              "      <th>SP500</th>\n",
              "      <th>LQD</th>\n",
              "    </tr>\n",
              "    <tr>\n",
              "      <th>Symbols</th>\n",
              "      <th></th>\n",
              "      <th></th>\n",
              "      <th></th>\n",
              "      <th></th>\n",
              "      <th></th>\n",
              "      <th></th>\n",
              "    </tr>\n",
              "  </thead>\n",
              "  <tbody>\n",
              "    <tr>\n",
              "      <th>AAPL</th>\n",
              "      <td>1.000000</td>\n",
              "      <td>0.827251</td>\n",
              "      <td>0.500062</td>\n",
              "      <td>0.526543</td>\n",
              "      <td>0.811582</td>\n",
              "      <td>0.268120</td>\n",
              "    </tr>\n",
              "    <tr>\n",
              "      <th>MSFT</th>\n",
              "      <td>0.827251</td>\n",
              "      <td>1.000000</td>\n",
              "      <td>0.567227</td>\n",
              "      <td>0.546106</td>\n",
              "      <td>0.865147</td>\n",
              "      <td>0.272676</td>\n",
              "    </tr>\n",
              "    <tr>\n",
              "      <th>IBM</th>\n",
              "      <td>0.500062</td>\n",
              "      <td>0.567227</td>\n",
              "      <td>1.000000</td>\n",
              "      <td>0.363549</td>\n",
              "      <td>0.773973</td>\n",
              "      <td>0.254539</td>\n",
              "    </tr>\n",
              "    <tr>\n",
              "      <th>TWTR</th>\n",
              "      <td>0.526543</td>\n",
              "      <td>0.546106</td>\n",
              "      <td>0.363549</td>\n",
              "      <td>1.000000</td>\n",
              "      <td>0.592002</td>\n",
              "      <td>0.266391</td>\n",
              "    </tr>\n",
              "    <tr>\n",
              "      <th>SP500</th>\n",
              "      <td>0.811582</td>\n",
              "      <td>0.865147</td>\n",
              "      <td>0.773973</td>\n",
              "      <td>0.592002</td>\n",
              "      <td>1.000000</td>\n",
              "      <td>0.328951</td>\n",
              "    </tr>\n",
              "    <tr>\n",
              "      <th>LQD</th>\n",
              "      <td>0.268120</td>\n",
              "      <td>0.272676</td>\n",
              "      <td>0.254539</td>\n",
              "      <td>0.266391</td>\n",
              "      <td>0.328951</td>\n",
              "      <td>1.000000</td>\n",
              "    </tr>\n",
              "  </tbody>\n",
              "</table>\n",
              "</div>"
            ],
            "text/plain": [
              "Symbols      AAPL      MSFT       IBM      TWTR     SP500       LQD\n",
              "Symbols                                                            \n",
              "AAPL     1.000000  0.827251  0.500062  0.526543  0.811582  0.268120\n",
              "MSFT     0.827251  1.000000  0.567227  0.546106  0.865147  0.272676\n",
              "IBM      0.500062  0.567227  1.000000  0.363549  0.773973  0.254539\n",
              "TWTR     0.526543  0.546106  0.363549  1.000000  0.592002  0.266391\n",
              "SP500    0.811582  0.865147  0.773973  0.592002  1.000000  0.328951\n",
              "LQD      0.268120  0.272676  0.254539  0.266391  0.328951  1.000000"
            ]
          },
          "metadata": {
            "tags": []
          },
          "execution_count": 16
        }
      ]
    },
    {
      "cell_type": "code",
      "metadata": {
        "colab": {
          "base_uri": "https://localhost:8080/",
          "height": 266
        },
        "id": "XNea-Dqxhi1B",
        "outputId": "c1e7ac55-587e-4436-ef98-d7a6c866e2e9"
      },
      "source": [
        "test_correlation('TLT')"
      ],
      "execution_count": 17,
      "outputs": [
        {
          "output_type": "execute_result",
          "data": {
            "text/html": [
              "<div>\n",
              "<style scoped>\n",
              "    .dataframe tbody tr th:only-of-type {\n",
              "        vertical-align: middle;\n",
              "    }\n",
              "\n",
              "    .dataframe tbody tr th {\n",
              "        vertical-align: top;\n",
              "    }\n",
              "\n",
              "    .dataframe thead th {\n",
              "        text-align: right;\n",
              "    }\n",
              "</style>\n",
              "<table border=\"1\" class=\"dataframe\">\n",
              "  <thead>\n",
              "    <tr style=\"text-align: right;\">\n",
              "      <th>Symbols</th>\n",
              "      <th>AAPL</th>\n",
              "      <th>MSFT</th>\n",
              "      <th>IBM</th>\n",
              "      <th>TWTR</th>\n",
              "      <th>SP500</th>\n",
              "      <th>TLT</th>\n",
              "    </tr>\n",
              "    <tr>\n",
              "      <th>Symbols</th>\n",
              "      <th></th>\n",
              "      <th></th>\n",
              "      <th></th>\n",
              "      <th></th>\n",
              "      <th></th>\n",
              "      <th></th>\n",
              "    </tr>\n",
              "  </thead>\n",
              "  <tbody>\n",
              "    <tr>\n",
              "      <th>AAPL</th>\n",
              "      <td>1.000000</td>\n",
              "      <td>0.827251</td>\n",
              "      <td>0.500062</td>\n",
              "      <td>0.526543</td>\n",
              "      <td>0.811582</td>\n",
              "      <td>-0.313812</td>\n",
              "    </tr>\n",
              "    <tr>\n",
              "      <th>MSFT</th>\n",
              "      <td>0.827251</td>\n",
              "      <td>1.000000</td>\n",
              "      <td>0.567227</td>\n",
              "      <td>0.546106</td>\n",
              "      <td>0.865147</td>\n",
              "      <td>-0.321515</td>\n",
              "    </tr>\n",
              "    <tr>\n",
              "      <th>IBM</th>\n",
              "      <td>0.500062</td>\n",
              "      <td>0.567227</td>\n",
              "      <td>1.000000</td>\n",
              "      <td>0.363549</td>\n",
              "      <td>0.773973</td>\n",
              "      <td>-0.429749</td>\n",
              "    </tr>\n",
              "    <tr>\n",
              "      <th>TWTR</th>\n",
              "      <td>0.526543</td>\n",
              "      <td>0.546106</td>\n",
              "      <td>0.363549</td>\n",
              "      <td>1.000000</td>\n",
              "      <td>0.592002</td>\n",
              "      <td>-0.133187</td>\n",
              "    </tr>\n",
              "    <tr>\n",
              "      <th>SP500</th>\n",
              "      <td>0.811582</td>\n",
              "      <td>0.865147</td>\n",
              "      <td>0.773973</td>\n",
              "      <td>0.592002</td>\n",
              "      <td>1.000000</td>\n",
              "      <td>-0.435061</td>\n",
              "    </tr>\n",
              "    <tr>\n",
              "      <th>TLT</th>\n",
              "      <td>-0.313812</td>\n",
              "      <td>-0.321515</td>\n",
              "      <td>-0.429749</td>\n",
              "      <td>-0.133187</td>\n",
              "      <td>-0.435061</td>\n",
              "      <td>1.000000</td>\n",
              "    </tr>\n",
              "  </tbody>\n",
              "</table>\n",
              "</div>"
            ],
            "text/plain": [
              "Symbols      AAPL      MSFT       IBM      TWTR     SP500       TLT\n",
              "Symbols                                                            \n",
              "AAPL     1.000000  0.827251  0.500062  0.526543  0.811582 -0.313812\n",
              "MSFT     0.827251  1.000000  0.567227  0.546106  0.865147 -0.321515\n",
              "IBM      0.500062  0.567227  1.000000  0.363549  0.773973 -0.429749\n",
              "TWTR     0.526543  0.546106  0.363549  1.000000  0.592002 -0.133187\n",
              "SP500    0.811582  0.865147  0.773973  0.592002  1.000000 -0.435061\n",
              "TLT     -0.313812 -0.321515 -0.429749 -0.133187 -0.435061  1.000000"
            ]
          },
          "metadata": {
            "tags": []
          },
          "execution_count": 17
        }
      ]
    },
    {
      "cell_type": "code",
      "metadata": {
        "id": "ckcAwhkkh6_7"
      },
      "source": [
        "# visualizing correlation of S&P500 with another ticker\n",
        "\n",
        "def visualize_correlation(ticker1,ticker2):\n",
        "  df = web.DataReader([ticker1,ticker2],'yahoo',start)\n",
        "  df = df['Adj Close']\n",
        "  df= df/df.iloc[0]\n",
        "  fig, ax = plt.subplots()\n",
        "  df.plot(ax=ax)"
      ],
      "execution_count": 18,
      "outputs": []
    },
    {
      "cell_type": "code",
      "metadata": {
        "colab": {
          "base_uri": "https://localhost:8080/",
          "height": 277
        },
        "id": "n3OMdFShitHi",
        "outputId": "469a2fd7-2886-4753-d76e-f545f4516c52"
      },
      "source": [
        "visualize_correlation('^GSPC','TLT')"
      ],
      "execution_count": 19,
      "outputs": [
        {
          "output_type": "display_data",
          "data": {
            "image/png": "[encoded data removed]",
            "text/plain": [
              "<Figure size 432x288 with 1 Axes>"
            ]
          },
          "metadata": {
            "tags": [],
            "needs_background": "light"
          }
        }
      ]
    },
    {
      "cell_type": "markdown",
      "metadata": {
        "id": "OacKQ9l6WGRt"
      },
      "source": [
        "## Beta"
      ]
    },
    {
      "cell_type": "code",
      "metadata": {
        "id": "auxxPhfOku9Y"
      },
      "source": [
        "# linear regression for two tickers and plot them\n",
        "\n",
        "from sklearn.linear_model import LinearRegression\n",
        "\n",
        "def linear_regression(a, b):\n",
        "\n",
        "  x = returns[a].iloc[1:].to_numpy().reshape(-1,1)\n",
        "  y = returns[b].iloc[1:].to_numpy().reshape(-1,1)\n",
        "\n",
        "  linear = LinearRegression()\n",
        "  linear.fit(x,y)\n",
        "\n",
        "\n",
        "  y_pred = linear.predict(x)\n",
        "\n",
        "\n",
        "  alpha = linear.intercept_[0]\n",
        "  beta = linear.coef_[0,0]\n",
        "\n",
        "\n",
        "  fig, ax = plt.subplots()\n",
        "  ax.set_title(\"Alpha: \" + str(round(alpha,5)) + \", Beta: \" + str(round(beta,3)))\n",
        "  ax.scatter(x,y)\n",
        "  ax.plot(x,y_pred, c='r')"
      ],
      "execution_count": 20,
      "outputs": []
    },
    {
      "cell_type": "code",
      "metadata": {
        "colab": {
          "base_uri": "https://localhost:8080/",
          "height": 281
        },
        "id": "BdYZh0m-W_Ql",
        "outputId": "66c65150-7bd4-4aa6-adfd-307202155be1"
      },
      "source": [
        "# linear regression and beta value\n",
        "\n",
        "linear_regression(\"AAPL\", \"SP500\")"
      ],
      "execution_count": 21,
      "outputs": [
        {
          "output_type": "display_data",
          "data": {
            "image/png": "[encoded data removed]",
            "text/plain": [
              "<Figure size 432x288 with 1 Axes>"
            ]
          },
          "metadata": {
            "tags": [],
            "needs_background": "light"
          }
        }
      ]
    },
    {
      "cell_type": "code",
      "metadata": {
        "id": "mQhi6Z3PherR"
      },
      "source": [
        "# beta = covariance/variance\n",
        "\n",
        "# calculate covariance\n",
        "\n",
        "covariance = df.cov()"
      ],
      "execution_count": 28,
      "outputs": []
    },
    {
      "cell_type": "code",
      "metadata": {
        "colab": {
          "base_uri": "https://localhost:8080/"
        },
        "id": "DosfJrpCdeYj",
        "outputId": "1e1d95f6-fa66-4a4a-f6bd-85f2c3e1dcdf"
      },
      "source": [
        "# calculate variance of market\n",
        "\n",
        "variance = df['SP500'].var()\n",
        "variance"
      ],
      "execution_count": 29,
      "outputs": [
        {
          "output_type": "execute_result",
          "data": {
            "text/plain": [
              "0.0003800658257520733"
            ]
          },
          "metadata": {
            "tags": []
          },
          "execution_count": 29
        }
      ]
    },
    {
      "cell_type": "code",
      "metadata": {
        "colab": {
          "base_uri": "https://localhost:8080/"
        },
        "id": "yoIyjXyCdo3u",
        "outputId": "e1876d5c-9107-4be1-8863-57b4566763ad"
      },
      "source": [
        "# calculate Apple beta\n",
        "beta = covariance.loc['AAPL','SP500']/variance\n",
        "print(\"Beta: \" + str(beta))"
      ],
      "execution_count": 31,
      "outputs": [
        {
          "output_type": "stream",
          "text": [
            "Beta: 1.1359621071334838\n"
          ],
          "name": "stdout"
        }
      ]
    },
    {
      "cell_type": "code",
      "metadata": {
        "colab": {
          "base_uri": "https://localhost:8080/"
        },
        "id": "zDPmZY11d128",
        "outputId": "81091036-517d-48ad-dbaa-1df687b9bd29"
      },
      "source": [
        "# beta of the portfolio\n",
        "\n",
        "df.cov().loc['SP500']/df['SP500'].var()"
      ],
      "execution_count": 36,
      "outputs": [
        {
          "output_type": "execute_result",
          "data": {
            "text/plain": [
              "Symbols\n",
              "AAPL     1.135962\n",
              "MSFT     1.117255\n",
              "IBM      0.959060\n",
              "TWTR     1.184116\n",
              "SP500    1.000000\n",
              "Name: SP500, dtype: float64"
            ]
          },
          "metadata": {
            "tags": []
          },
          "execution_count": 36
        }
      ]
    },
    {
      "cell_type": "markdown",
      "metadata": {
        "id": "4YbsbtoggI_A"
      },
      "source": [
        "## CAPM"
      ]
    },
    {
      "cell_type": "code",
      "metadata": {
        "id": "Li4CS75JgJ2m"
      },
      "source": [
        "# CAPM = riskfree rate + beta*(market risk premium)\n",
        "\n",
        "rf = 0.01\n",
        "\n",
        "# market risk premium = market - risk free rate\n",
        "\n",
        "mrp= 0.09\n",
        "\n",
        "expected_return = rf + beta*(mrp)"
      ],
      "execution_count": 38,
      "outputs": []
    },
    {
      "cell_type": "code",
      "metadata": {
        "colab": {
          "base_uri": "https://localhost:8080/"
        },
        "id": "XW1qmIdmh3on",
        "outputId": "0606e949-9e8a-46dd-94e5-a4da9d8675e9"
      },
      "source": [
        "# expected return for the portfolio\n",
        "\n",
        "expected_return"
      ],
      "execution_count": 40,
      "outputs": [
        {
          "output_type": "execute_result",
          "data": {
            "text/plain": [
              "0.11223658964201354"
            ]
          },
          "metadata": {
            "tags": []
          },
          "execution_count": 40
        }
      ]
    },
    {
      "cell_type": "code",
      "metadata": {
        "id": "l8JuUXo4h9U0"
      },
      "source": [
        ""
      ],
      "execution_count": null,
      "outputs": []
    }
  ]
}
